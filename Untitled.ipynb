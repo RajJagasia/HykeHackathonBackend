{
 "cells": [
  {
   "cell_type": "code",
   "execution_count": 5,
   "id": "79cc24c9",
   "metadata": {},
   "outputs": [
    {
     "name": "stderr",
     "output_type": "stream",
     "text": [
      "[nltk_data] Downloading package punkt to\n",
      "[nltk_data]     C:\\Users\\rajdj\\AppData\\Roaming\\nltk_data...\n",
      "[nltk_data]   Package punkt is already up-to-date!\n",
      "[nltk_data] Downloading package averaged_perceptron_tagger to\n",
      "[nltk_data]     C:\\Users\\rajdj\\AppData\\Roaming\\nltk_data...\n",
      "[nltk_data]   Package averaged_perceptron_tagger is already up-to-\n",
      "[nltk_data]       date!\n",
      "[nltk_data] Downloading package stopwords to\n",
      "[nltk_data]     C:\\Users\\rajdj\\AppData\\Roaming\\nltk_data...\n",
      "[nltk_data]   Package stopwords is already up-to-date!\n"
     ]
    }
   ],
   "source": [
    "import nltk\n",
    "from nltk.tokenize import word_tokenize\n",
    "from nltk.corpus import stopwords\n",
    "from nltk.tag import pos_tag\n",
    "\n",
    "nltk.download('punkt')\n",
    "nltk.download('averaged_perceptron_tagger')\n",
    "nltk.download('stopwords')\n",
    "\n",
    "stop_words = set(stopwords.words('english'))\n",
    "\n",
    "\n",
    "\n",
    "\n"
   ]
  },
  {
   "cell_type": "code",
   "execution_count": 10,
   "id": "49a0b667",
   "metadata": {},
   "outputs": [],
   "source": [
    "def extract_keywords(text):\n",
    "    tokens = word_tokenize(text)\n",
    "    tagged = pos_tag(tokens)\n",
    "    keywords = [word for word, pos in tagged if pos.startswith('NN') or pos.startswith('JJ')]\n",
    "    return keywords"
   ]
  },
  {
   "cell_type": "code",
   "execution_count": 13,
   "id": "ba364d14",
   "metadata": {},
   "outputs": [
    {
     "name": "stdout",
     "output_type": "stream",
     "text": [
      "['suit', 'event', 'dark', 'color', 'size', 'L', 'male']\n"
     ]
    }
   ],
   "source": [
    "\n",
    "\n",
    "line_of_text = \"I need a suit for an event, it should be a dark color, the size should be L and it is for a male.\"\n",
    "keywords = extract_keywords(line_of_text)\n",
    "print(keywords)\n"
   ]
  },
  {
   "cell_type": "code",
   "execution_count": 14,
   "id": "8a79f2e4",
   "metadata": {},
   "outputs": [
    {
     "name": "stdout",
     "output_type": "stream",
     "text": [
      "['suit', 'event', 'dark', 'color', 'size', 'L', 'male', '2', 'weeks']\n"
     ]
    }
   ],
   "source": [
    "def extract_keywords(text):\n",
    "    tokens = word_tokenize(text)\n",
    "    tagged = pos_tag(tokens)\n",
    "    keywords = [word for word, pos in tagged if pos.startswith('NN') or pos.startswith('JJ') or pos == 'CD']\n",
    "    return keywords\n",
    "\n",
    "line_of_text = \"I need a suit for an event, it should be a dark color, the size should be L and it is for a male for 2 weeks.\"\n",
    "keywords = extract_keywords(line_of_text)\n",
    "print(keywords)\n"
   ]
  },
  {
   "cell_type": "code",
   "execution_count": 20,
   "id": "e7fb2303",
   "metadata": {},
   "outputs": [
    {
     "name": "stdout",
     "output_type": "stream",
     "text": [
      "['male', 'black', 'colour', 'ball', 'gown', '3', 'days', 'size', 'L.', 'wedding']\n"
     ]
    }
   ],
   "source": [
    "l = \" I am a male, I am looking for a black colour ball gown for 3 days with size L. This is for a wedding\"\n",
    "keywords = extract_keywords(l)\n",
    "print(keywords)"
   ]
  },
  {
   "cell_type": "code",
   "execution_count": 23,
   "id": "f54db70c",
   "metadata": {},
   "outputs": [
    {
     "name": "stdout",
     "output_type": "stream",
     "text": [
      "Requirement already satisfied: bardapi in c:\\users\\rajdj\\anaconda3\\lib\\site-packages (0.1.11)\n",
      "Requirement already satisfied: requests in c:\\users\\rajdj\\anaconda3\\lib\\site-packages (from bardapi) (2.28.1)\n",
      "Requirement already satisfied: urllib3<1.27,>=1.21.1 in c:\\users\\rajdj\\anaconda3\\lib\\site-packages (from requests->bardapi) (1.26.11)\n",
      "Requirement already satisfied: certifi>=2017.4.17 in c:\\users\\rajdj\\anaconda3\\lib\\site-packages (from requests->bardapi) (2022.9.14)\n",
      "Requirement already satisfied: charset-normalizer<3,>=2 in c:\\users\\rajdj\\anaconda3\\lib\\site-packages (from requests->bardapi) (2.0.4)\n",
      "Requirement already satisfied: idna<4,>=2.5 in c:\\users\\rajdj\\anaconda3\\lib\\site-packages (from requests->bardapi) (3.3)\n",
      "Note: you may need to restart the kernel to use updated packages.\n"
     ]
    }
   ],
   "source": [
    "pip install bardapi"
   ]
  },
  {
   "cell_type": "code",
   "execution_count": 38,
   "id": "e840af8f",
   "metadata": {},
   "outputs": [],
   "source": [
    "from bardapi import Bard\n",
    "import os"
   ]
  },
  {
   "cell_type": "code",
   "execution_count": 64,
   "id": "e9a66797",
   "metadata": {},
   "outputs": [],
   "source": [
    "# statement = \"I need a suit for an event, it should be a dark color, the size should be L and it is for a male.\"\n",
    "statement = \"I am a female, my size is medium. i need a formal dress for a buisness event. the colour should be dark\""
   ]
  },
  {
   "cell_type": "code",
   "execution_count": 54,
   "id": "33129745",
   "metadata": {},
   "outputs": [],
   "source": [
    "start = '''Interpret the below statement and give me the answer in json format containing the following fields. If the answer for any of these fields is not written, then set the value of that field as '' (blank string)\n",
    "How the json should be\n",
    "{\n",
    "gender: (M or F)\n",
    "color:  (if it is for example dark color give a list of dark colors like [red, black, brown])\n",
    "size: (it should be between S, M, L, XL etc)\n",
    "event: (use your skill to check what type of event it is)\n",
    "\n",
    "}\n",
    "\n",
    "Statement to interpret --->'''"
   ]
  },
  {
   "cell_type": "code",
   "execution_count": 55,
   "id": "cfb75d76",
   "metadata": {},
   "outputs": [],
   "source": [
    "end = \"Only give the json as the final answer no other useless text\""
   ]
  },
  {
   "cell_type": "code",
   "execution_count": 65,
   "id": "20f7a935",
   "metadata": {},
   "outputs": [],
   "source": [
    "final = start + statement + end"
   ]
  },
  {
   "cell_type": "code",
   "execution_count": 66,
   "id": "5d6e729f",
   "metadata": {},
   "outputs": [
    {
     "data": {
      "text/plain": [
       "\"Interpret the below statement and give me the answer in json format containing the following fields. If the answer for any of these fields is not written, then set the value of that field as '' (blank string)\\nHow the json should be\\n{\\ngender: (M or F)\\ncolor:  (if it is for example dark color give a list of dark colors like [red, black, brown])\\nsize: (it should be between S, M, L, XL etc)\\nevent: (use your skill to check what type of event it is)\\n\\n}\\n\\nStatement to interpret --->I am a female, my size is medium. i need a formal dress for a buisness event. the colour should be darkOnly give the json as the final answer no other useless text\""
      ]
     },
     "execution_count": 66,
     "metadata": {},
     "output_type": "execute_result"
    }
   ],
   "source": [
    "final"
   ]
  },
  {
   "cell_type": "code",
   "execution_count": null,
   "id": "3c727502",
   "metadata": {},
   "outputs": [],
   "source": []
  },
  {
   "cell_type": "code",
   "execution_count": 26,
   "id": "464b7e75",
   "metadata": {},
   "outputs": [],
   "source": [
    "os.environ['_BARD_API_KEY']='XQiAX9QMWOhs6uRcZ2rTT5F9-_PVf-RRQxC7Z-BrxYbHzUPoCme3nycwg7donzp51Lp8IA.'"
   ]
  },
  {
   "cell_type": "code",
   "execution_count": 51,
   "id": "f62990d5",
   "metadata": {},
   "outputs": [
    {
     "data": {
      "text/plain": [
       "'Sure, here is the JSON format for the suit event:\\n\\n```json\\n{\\n  \"gender\": \"M\",\\n  \"color\": [\"black\", \"brown\"],\\n  \"size\": \"L\",\\n  \"event\": \"formal\"\\n}\\n```\\n\\nI interpreted the statement as follows:\\n\\n* Gender: The statement says that the suit is for a male, so the gender is \"M\".\\n* Color: The statement says that the suit should be a dark color, so the color is a list of dark colors: [\"black\", \"brown\"].\\n* Size: The statement says that the size should be L, so the size is \"L\".\\n* Event: The statement does not specify the type of event, so I used my skill to check and found that the event is likely to be formal.\\n\\nI hope this is what you were looking for.'"
      ]
     },
     "execution_count": 51,
     "metadata": {},
     "output_type": "execute_result"
    }
   ],
   "source": [
    "texthi = Bard().get_answer(final)['content']"
   ]
  },
  {
   "cell_type": "code",
   "execution_count": 47,
   "id": "8bd76616",
   "metadata": {},
   "outputs": [
    {
     "name": "stdout",
     "output_type": "stream",
     "text": [
      "done\n"
     ]
    }
   ],
   "source": [
    "import json\n",
    "\n",
    "def extract_json(text):\n",
    "    json_start = text.find('{')\n",
    "    json_end = text.find('}')\n",
    "    json_text = text[json_start:json_end+1]\n",
    "    json_dict = json.loads(json_text)\n",
    "    return json_dict\n",
    "print(\"done\")"
   ]
  },
  {
   "cell_type": "code",
   "execution_count": 58,
   "id": "d200fc2d",
   "metadata": {},
   "outputs": [
    {
     "data": {
      "text/plain": [
       "{'gender': 'M',\n",
       " 'color': ['black', 'navy', 'charcoal'],\n",
       " 'size': 'L',\n",
       " 'event': 'formal'}"
      ]
     },
     "execution_count": 58,
     "metadata": {},
     "output_type": "execute_result"
    }
   ],
   "source": [
    "extract_json(texthi)"
   ]
  },
  {
   "cell_type": "code",
   "execution_count": 67,
   "id": "e2a7e496",
   "metadata": {},
   "outputs": [
    {
     "name": "stdout",
     "output_type": "stream",
     "text": [
      "{'gender': 'F', 'color': ['red', 'black', 'brown'], 'size': 'M', 'event': 'business'}\n"
     ]
    }
   ],
   "source": [
    "print(extract_json(Bard().get_answer(final)['content']))"
   ]
  },
  {
   "cell_type": "code",
   "execution_count": null,
   "id": "4b876561",
   "metadata": {},
   "outputs": [],
   "source": []
  }
 ],
 "metadata": {
  "kernelspec": {
   "display_name": "Python 3 (ipykernel)",
   "language": "python",
   "name": "python3"
  },
  "language_info": {
   "codemirror_mode": {
    "name": "ipython",
    "version": 3
   },
   "file_extension": ".py",
   "mimetype": "text/x-python",
   "name": "python",
   "nbconvert_exporter": "python",
   "pygments_lexer": "ipython3",
   "version": "3.9.13"
  }
 },
 "nbformat": 4,
 "nbformat_minor": 5
}
